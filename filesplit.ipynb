{
 "cells": [
  {
   "cell_type": "code",
   "execution_count": 2,
   "metadata": {},
   "outputs": [
    {
     "name": "stdout",
     "output_type": "stream",
     "text": [
      "34707\n"
     ]
    }
   ],
   "source": [
    "f=open(\"/Users/titashneogi/workspace/flair-experiments/jobsdata/indeed_tagged.txt\", \"r\")\n",
    "\n",
    "contents =f.read()\n",
    "\n",
    "list_content = contents.split(\"\\n\")\n",
    "\n",
    "print(len(list_content))\n",
    "\n",
    "\n",
    "#twentyparts = round(len(list_content) / 20)\n",
    "\n",
    "#truncated_file = list_content[:6161768]\n",
    "\n",
    "\n",
    "train_set = list_content[:28000]\n",
    "test_set = list_content[28001:32000]\n",
    "dev_set = list_content[32001:]\n"
   ]
  },
  {
   "cell_type": "code",
   "execution_count": 3,
   "metadata": {},
   "outputs": [],
   "source": [
    "f1 = open(\"/Users/titashneogi/workspace/flair-experiments/jobsdata/data/train_indeed.conll\", \"w\")\n",
    "\n",
    "for train in train_set:\n",
    "    f1.write(train)\n",
    "    f1.write(\"\\n\")\n",
    "f1.close()\n",
    "\n",
    "f2 = open(\"/Users/titashneogi/workspace/flair-experiments/jobsdata/data/test_indeed.conll\", \"w\")\n",
    "for test in test_set:\n",
    "    f2.write(test)\n",
    "    f2.write(\"\\n\")\n",
    "f2.close()\n",
    "\n",
    "f3 = open(\"/Users/titashneogi/workspace/flair-experiments/jobsdata/data/dev_indeed.conll\", \"w\")\n",
    "for dev in dev_set:\n",
    "    f3.write(dev)\n",
    "    f3.write(\"\\n\")\n",
    "f3.close()"
   ]
  },
  {
   "cell_type": "code",
   "execution_count": 4,
   "metadata": {},
   "outputs": [
    {
     "name": "stdout",
     "output_type": "stream",
     "text": [
      "30001\n"
     ]
    }
   ],
   "source": [
    "\n",
    "\n",
    "f=open(\"/Users/titashneogi/workspace/NLP/NER/data/flair/wikigold/input/data/train_wikigold.conll\", \"r\")\n",
    "\n",
    "contents =f.read()\n",
    "\n",
    "list_content = contents.split(\"\\n\")\n",
    "\n",
    "print(len(list_content))"
   ]
  },
  {
   "cell_type": "code",
   "execution_count": null,
   "metadata": {},
   "outputs": [],
   "source": []
  }
 ],
 "metadata": {
  "kernelspec": {
   "display_name": "Python 3",
   "language": "python",
   "name": "python3"
  },
  "language_info": {
   "codemirror_mode": {
    "name": "ipython",
    "version": 3
   },
   "file_extension": ".py",
   "mimetype": "text/x-python",
   "name": "python",
   "nbconvert_exporter": "python",
   "pygments_lexer": "ipython3",
   "version": "3.7.3"
  }
 },
 "nbformat": 4,
 "nbformat_minor": 4
}
