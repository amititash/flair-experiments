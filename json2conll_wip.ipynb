{
 "cells": [
  {
   "cell_type": "code",
   "execution_count": 25,
   "metadata": {},
   "outputs": [],
   "source": [
    "# take first element for sort\n",
    "def takeFirst(elem):\n",
    "    return elem[0]\n",
    "\n",
    "def create_iob(line, labels):\n",
    "    \n",
    "    \n",
    "    text_line = list(line[\"text\"])\n",
    "    text_list = line[\"text\"].split(\" \")\n",
    "    final_list = []\n",
    "\n",
    "    for t in text_list:\n",
    "        annotated_text = t.strip(\",./\\;-\")+\" O\"\n",
    "        final_list.append(annotated_text)\n",
    "        \n",
    "    # make sure the labels are sorted by index position\n",
    "    labels.sort(key=takeFirst)\n",
    "\n",
    "    for label in labels:\n",
    "        start = label[0]\n",
    "        end = label[1]\n",
    "        iob_term = label[2]\n",
    "        entity_chars = text_line[start:end]\n",
    "\n",
    "        entity_list = ''.join(entity_chars).split(\" \")\n",
    "\n",
    "        if len(entity_list) > 1:\n",
    "            if entity_list[0] != '':\n",
    "                #print(entity_list[0], \"B-\", label[2])\n",
    "\n",
    "                compare_string = entity_list[0]+\" O\"\n",
    "                annotated_text = entity_list[0]+\" B-\"+iob_term\n",
    "\n",
    "                try:\n",
    "                    pos = final_list.index(compare_string)\n",
    "                    final_list[pos] = annotated_text\n",
    "                except:\n",
    "                    pass\n",
    "\n",
    "            for e in entity_list[1:]:\n",
    "\n",
    "                #print(e, \"I-\",label[2])\n",
    "                compare_string = e+\" O\"\n",
    "                annotated_text = e+\" I-\"+iob_term\n",
    "\n",
    "                try:\n",
    "                    pos = final_list.index(compare_string)\n",
    "                    final_list[pos] = annotated_text\n",
    "                except:\n",
    "                    pass\n",
    "        else:\n",
    "            if entity_list[0] != '':\n",
    "                #print(entity_list[0], \"B-\",iob_term)\n",
    "                compare_string = entity_list[0]+\" O\"\n",
    "                annotated_text = entity_list[0]+\" B-\"+iob_term\n",
    "\n",
    "                try:\n",
    "                    pos = final_list.index(compare_string)\n",
    "                    final_list[pos] = annotated_text\n",
    "                except:\n",
    "                    pass\n",
    "                \n",
    "    return(final_list)"
   ]
  },
  {
   "cell_type": "code",
   "execution_count": 26,
   "metadata": {
    "scrolled": true
   },
   "outputs": [],
   "source": [
    "import json\n",
    "\n",
    "\n",
    "json_file = open(\"indeed_tagged.json\", \"r\")\n",
    "conll_file = open(\"indeed_tagged.txt\",\"w+\")\n",
    "\n",
    "for eachline in json_file:\n",
    "    line = json.loads(eachline)\n",
    "    split_line = line[\"text\"].split(\" \")\n",
    "    \n",
    "    if line[\"labels\"] != None:\n",
    "        labels = line[\"labels\"]\n",
    "        \n",
    "        iob_list = create_iob(line, labels)\n",
    "        \n",
    "        if iob_list != \"\":\n",
    "            for f in iob_list:\n",
    "                conll_file.write(f)\n",
    "                conll_file.write(\"\\n\")   \n",
    "    else:\n",
    "        continue\n",
    "\n",
    "conll_file.close()\n"
   ]
  },
  {
   "cell_type": "code",
   "execution_count": 12,
   "metadata": {
    "scrolled": true
   },
   "outputs": [],
   "source": [
    "\n"
   ]
  },
  {
   "cell_type": "code",
   "execution_count": 168,
   "metadata": {
    "scrolled": true
   },
   "outputs": [
    {
     "data": {
      "text/html": [
       "<div>\n",
       "<style scoped>\n",
       "    .dataframe tbody tr th:only-of-type {\n",
       "        vertical-align: middle;\n",
       "    }\n",
       "\n",
       "    .dataframe tbody tr th {\n",
       "        vertical-align: top;\n",
       "    }\n",
       "\n",
       "    .dataframe thead th {\n",
       "        text-align: right;\n",
       "    }\n",
       "</style>\n",
       "<table border=\"1\" class=\"dataframe\">\n",
       "  <thead>\n",
       "    <tr style=\"text-align: right;\">\n",
       "      <th></th>\n",
       "      <th>Tags</th>\n",
       "      <th>Sentences</th>\n",
       "    </tr>\n",
       "  </thead>\n",
       "  <tbody>\n",
       "    <tr>\n",
       "      <th>0</th>\n",
       "      <td>['B-LOCATION</td>\n",
       "      <td>['Radawa</td>\n",
       "    </tr>\n",
       "    <tr>\n",
       "      <th>1</th>\n",
       "      <td>O</td>\n",
       "      <td>is</td>\n",
       "    </tr>\n",
       "    <tr>\n",
       "      <th>2</th>\n",
       "      <td>O</td>\n",
       "      <td>a</td>\n",
       "    </tr>\n",
       "    <tr>\n",
       "      <th>3</th>\n",
       "      <td>O</td>\n",
       "      <td>village</td>\n",
       "    </tr>\n",
       "    <tr>\n",
       "      <th>4</th>\n",
       "      <td>O</td>\n",
       "      <td>in</td>\n",
       "    </tr>\n",
       "  </tbody>\n",
       "</table>\n",
       "</div>"
      ],
      "text/plain": [
       "           Tags Sentences\n",
       "0  ['B-LOCATION  ['Radawa\n",
       "1             O        is\n",
       "2             O         a\n",
       "3             O   village\n",
       "4             O        in"
      ]
     },
     "execution_count": 168,
     "metadata": {},
     "output_type": "execute_result"
    }
   ],
   "source": [
    "# Load the Pandas libraries with alias 'pd' \n",
    "import pandas as pd \n",
    "\n",
    "# Read data from file 'filename.csv' \n",
    "# (in the same directory that your python process is based)\n",
    "# Control delimiters, rows, column names with read_csv (see later) \n",
    "data = pd.read_csv(\"/Users/titashneogi/workspace/NLP/NER/data/flair/eng_turk/EWNERTC.csv\")\n",
    "\n",
    "# Preview the first 5 lines of the loaded data \n",
    "data.head()\n"
   ]
  },
  {
   "cell_type": "code",
   "execution_count": 157,
   "metadata": {
    "scrolled": false
   },
   "outputs": [
    {
     "data": {
      "text/html": [
       "<div>\n",
       "<style scoped>\n",
       "    .dataframe tbody tr th:only-of-type {\n",
       "        vertical-align: middle;\n",
       "    }\n",
       "\n",
       "    .dataframe tbody tr th {\n",
       "        vertical-align: top;\n",
       "    }\n",
       "\n",
       "    .dataframe thead th {\n",
       "        text-align: right;\n",
       "    }\n",
       "</style>\n",
       "<table border=\"1\" class=\"dataframe\">\n",
       "  <thead>\n",
       "    <tr style=\"text-align: right;\">\n",
       "      <th></th>\n",
       "      <th>Tags</th>\n",
       "      <th>Sentences</th>\n",
       "    </tr>\n",
       "  </thead>\n",
       "  <tbody>\n",
       "    <tr>\n",
       "      <th>0</th>\n",
       "      <td>['B-LOCATION</td>\n",
       "      <td>['Radawa</td>\n",
       "    </tr>\n",
       "    <tr>\n",
       "      <th>1</th>\n",
       "      <td>O</td>\n",
       "      <td>is</td>\n",
       "    </tr>\n",
       "    <tr>\n",
       "      <th>2</th>\n",
       "      <td>O</td>\n",
       "      <td>a</td>\n",
       "    </tr>\n",
       "    <tr>\n",
       "      <th>3</th>\n",
       "      <td>O</td>\n",
       "      <td>village</td>\n",
       "    </tr>\n",
       "    <tr>\n",
       "      <th>4</th>\n",
       "      <td>O</td>\n",
       "      <td>in</td>\n",
       "    </tr>\n",
       "    <tr>\n",
       "      <th>...</th>\n",
       "      <td>...</td>\n",
       "      <td>...</td>\n",
       "    </tr>\n",
       "    <tr>\n",
       "      <th>95</th>\n",
       "      <td>O</td>\n",
       "      <td>water</td>\n",
       "    </tr>\n",
       "    <tr>\n",
       "      <th>96</th>\n",
       "      <td>O</td>\n",
       "      <td>from</td>\n",
       "    </tr>\n",
       "    <tr>\n",
       "      <th>97</th>\n",
       "      <td>O</td>\n",
       "      <td>the</td>\n",
       "    </tr>\n",
       "    <tr>\n",
       "      <th>98</th>\n",
       "      <td>B-LOCATION</td>\n",
       "      <td>River</td>\n",
       "    </tr>\n",
       "    <tr>\n",
       "      <th>99</th>\n",
       "      <td>I-LOCATION</td>\n",
       "      <td>Styx</td>\n",
       "    </tr>\n",
       "  </tbody>\n",
       "</table>\n",
       "<p>100 rows × 2 columns</p>\n",
       "</div>"
      ],
      "text/plain": [
       "            Tags Sentences\n",
       "0   ['B-LOCATION  ['Radawa\n",
       "1              O        is\n",
       "2              O         a\n",
       "3              O   village\n",
       "4              O        in\n",
       "..           ...       ...\n",
       "95             O     water\n",
       "96             O      from\n",
       "97             O       the\n",
       "98    B-LOCATION     River\n",
       "99    I-LOCATION      Styx\n",
       "\n",
       "[100 rows x 2 columns]"
      ]
     },
     "execution_count": 157,
     "metadata": {},
     "output_type": "execute_result"
    }
   ],
   "source": [
    "data.head(n=100)"
   ]
  },
  {
   "cell_type": "code",
   "execution_count": 169,
   "metadata": {},
   "outputs": [],
   "source": [
    "df = pd.DataFrame(data)"
   ]
  },
  {
   "cell_type": "code",
   "execution_count": 159,
   "metadata": {
    "scrolled": false
   },
   "outputs": [
    {
     "name": "stdout",
     "output_type": "stream",
     "text": [
      "                   Tags Sentences\n",
      "0          ['B-LOCATION  ['Radawa\n",
      "1                     O        is\n",
      "2                     O         a\n",
      "3                     O   village\n",
      "4                     O        in\n",
      "...                 ...       ...\n",
      "123235356             O       NaN\n",
      "123235357             O       NaN\n",
      "123235358             O       NaN\n",
      "123235359             O       NaN\n",
      "123235360           O']       NaN\n",
      "\n",
      "[123235361 rows x 2 columns]\n"
     ]
    }
   ],
   "source": [
    "print(df)"
   ]
  },
  {
   "cell_type": "code",
   "execution_count": 170,
   "metadata": {},
   "outputs": [],
   "source": [
    "newDf = df[['Sentences', 'Tags']]"
   ]
  },
  {
   "cell_type": "code",
   "execution_count": 171,
   "metadata": {},
   "outputs": [],
   "source": [
    "newDf.to_csv('/Users/titashneogi/workspace/NLP/NER/data/flair/ewnet.tsv', index=False, sep='\\t')"
   ]
  },
  {
   "cell_type": "code",
   "execution_count": null,
   "metadata": {},
   "outputs": [],
   "source": []
  }
 ],
 "metadata": {
  "kernelspec": {
   "display_name": "Python 3",
   "language": "python",
   "name": "python3"
  },
  "language_info": {
   "codemirror_mode": {
    "name": "ipython",
    "version": 3
   },
   "file_extension": ".py",
   "mimetype": "text/x-python",
   "name": "python",
   "nbconvert_exporter": "python",
   "pygments_lexer": "ipython3",
   "version": "3.7.3"
  }
 },
 "nbformat": 4,
 "nbformat_minor": 4
}
